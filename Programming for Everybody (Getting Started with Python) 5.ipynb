{
 "cells": [
  {
   "cell_type": "code",
   "execution_count": 2,
   "metadata": {},
   "outputs": [
    {
     "name": "stdout",
     "output_type": "stream",
     "text": [
      "Enter an integer number:7\n",
      "Enter an integer number:2\n",
      "Enter an integer number:bob\n",
      "Invalid input\n",
      "Enter an integer number:10\n",
      "Enter an integer number:4\n",
      "Enter an integer number:done\n",
      "Maximum is 10\n",
      "Minimum is 2\n"
     ]
    }
   ],
   "source": [
    "largest = None\n",
    "smallest = None\n",
    "number = None\n",
    "count = 0\n",
    "\n",
    "while True :\n",
    "    number = input(\"Enter an integer number:\")\n",
    "    if number == \"done\" : break\n",
    "    try : \n",
    "        number = int(number) \n",
    "        if count == 0 :\n",
    "            largest = number\n",
    "            smallest = number\n",
    "    except :\n",
    "        print(\"Invalid input\")\n",
    "        continue\n",
    "        \n",
    "    if(number > int(largest)) :\n",
    "        largest = number\n",
    "    if(number < int(smallest)) :\n",
    "        smallest = number\n",
    "        \n",
    "    count = count +1\n",
    "      \n",
    "print(\"Maximum is\",largest)\n",
    "print(\"Minimum is\",smallest)"
   ]
  },
  {
   "cell_type": "code",
   "execution_count": null,
   "metadata": {},
   "outputs": [],
   "source": []
  }
 ],
 "metadata": {
  "kernelspec": {
   "display_name": "Python 3",
   "language": "python",
   "name": "python3"
  },
  "language_info": {
   "codemirror_mode": {
    "name": "ipython",
    "version": 3
   },
   "file_extension": ".py",
   "mimetype": "text/x-python",
   "name": "python",
   "nbconvert_exporter": "python",
   "pygments_lexer": "ipython3",
   "version": "3.7.4"
  }
 },
 "nbformat": 4,
 "nbformat_minor": 2
}
