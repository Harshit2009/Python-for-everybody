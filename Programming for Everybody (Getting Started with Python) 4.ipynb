{
 "cells": [
  {
   "cell_type": "code",
   "execution_count": 1,
   "metadata": {},
   "outputs": [
    {
     "name": "stdout",
     "output_type": "stream",
     "text": [
      "Enter a score between 0.0 and 1.0:0.8\n",
      "B\n"
     ]
    }
   ],
   "source": [
    "score = input(\"Enter a score between 0.0 and 1.0:\")\n",
    "try : \n",
    "    score = float(score)\n",
    "    if(score < 0.0) :\n",
    "        print(\"Invalid value\")\n",
    "    if (score > 1.0) :\n",
    "        print(\"Invalid value\")\n",
    "except : \n",
    "    print(\"Invalid value\")\n",
    "if score >= 0.9 :\n",
    "    print(\"A\")\n",
    "elif score >= 0.8 :\n",
    "    print(\"B\")\n",
    "elif score >= 0.7  :\n",
    "    print(\"C\")\n",
    "elif score >= 0.6 :\n",
    "    print(\"D\")\n",
    "elif score < 0.6 :\n",
    "    print(\"F\")\n",
    "else :\n",
    "    print(\"Invalid value\")"
   ]
  },
  {
   "cell_type": "code",
   "execution_count": null,
   "metadata": {},
   "outputs": [],
   "source": []
  }
 ],
 "metadata": {
  "kernelspec": {
   "display_name": "Python 3",
   "language": "python",
   "name": "python3"
  },
  "language_info": {
   "codemirror_mode": {
    "name": "ipython",
    "version": 3
   },
   "file_extension": ".py",
   "mimetype": "text/x-python",
   "name": "python",
   "nbconvert_exporter": "python",
   "pygments_lexer": "ipython3",
   "version": "3.7.4"
  }
 },
 "nbformat": 4,
 "nbformat_minor": 2
}
